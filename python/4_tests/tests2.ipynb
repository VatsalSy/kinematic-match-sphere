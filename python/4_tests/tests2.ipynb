{
 "cells": [
  {
   "cell_type": "code",
   "execution_count": 1,
   "metadata": {},
   "outputs": [
    {
     "name": "stdout",
     "output_type": "stream",
     "text": [
      "4.141592653589793\n",
      "[[1.  3.1]\n",
      " [0.  1. ]]\n"
     ]
    }
   ],
   "source": [
    "\n",
    "from pathlib import Path\n",
    "import numpy as np\n",
    "import pickle\n",
    "a = 1\n",
    "b = np.pi\n",
    "k = np.array([[1.0, 3.1], [0.0, 1]])\n",
    "with open('mytest.pkl', 'wb') as f:\n",
    "    pickle.dump([a, b, k], f)\n",
    "\n",
    "with open('mytest.pkl', 'rb') as f:  # Python 3: open(..., 'rb')\n",
    "    c, d, l = pickle.load(f)\n",
    "\n",
    "print(c+d)\n",
    "print(l)\n",
    "\n",
    "\n",
    "\n"
   ]
  },
  {
   "cell_type": "code",
   "execution_count": 12,
   "metadata": {},
   "outputs": [
    {
     "ename": "NameError",
     "evalue": "name '__file__' is not defined",
     "output_type": "error",
     "traceback": [
      "\u001b[1;31m---------------------------------------------------------------------------\u001b[0m",
      "\u001b[1;31mNameError\u001b[0m                                 Traceback (most recent call last)",
      "\u001b[1;32m<ipython-input-12-fa7616395fa1>\u001b[0m in \u001b[0;36m<module>\u001b[1;34m\u001b[0m\n\u001b[1;32m----> 1\u001b[1;33m \u001b[0mFolderPath\u001b[0m \u001b[1;33m=\u001b[0m \u001b[0mPath\u001b[0m\u001b[1;33m(\u001b[0m\u001b[0m__file__\u001b[0m\u001b[1;33m)\u001b[0m\u001b[1;33m.\u001b[0m\u001b[0mparent\u001b[0m\u001b[1;33m.\u001b[0m\u001b[0mparent\u001b[0m \u001b[1;33m/\u001b[0m \u001b[1;34m\"output\"\u001b[0m\u001b[1;33m\u001b[0m\u001b[1;33m\u001b[0m\u001b[0m\n\u001b[0m\u001b[0;32m      2\u001b[0m \u001b[0mthefile\u001b[0m \u001b[1;33m=\u001b[0m \u001b[0mFolderPath\u001b[0m \u001b[1;33m/\u001b[0m \u001b[1;34m\"mytest.pkl\"\u001b[0m\u001b[1;33m\u001b[0m\u001b[1;33m\u001b[0m\u001b[0m\n",
      "\u001b[1;31mNameError\u001b[0m: name '__file__' is not defined"
     ]
    }
   ],
   "source": [
    "FolderPath = Path(__file__).parent.parent / \"output\"\n",
    "thefile = FolderPath / \"mytest.pkl\"\n"
   ]
  },
  {
   "cell_type": "code",
   "execution_count": 16,
   "metadata": {},
   "outputs": [
    {
     "name": "stdout",
     "output_type": "stream",
     "text": [
      "True\n"
     ]
    }
   ],
   "source": [
    "import numpy as np\n",
    "\n",
    "X = type(np.Inf)\n",
    "np.isinf\n",
    "print(isinstance(np.pi, float))"
   ]
  },
  {
   "cell_type": "code",
   "execution_count": 28,
   "metadata": {},
   "outputs": [
    {
     "ename": "TypeError",
     "evalue": "No loop matching the specified signature and casting was found for ufunc ceil",
     "output_type": "error",
     "traceback": [
      "\u001b[1;31m---------------------------------------------------------------------------\u001b[0m",
      "\u001b[1;31mTypeError\u001b[0m                                 Traceback (most recent call last)",
      "\u001b[1;32md:\\GITRepos\\kinematic-match-sphere\\python\\4_tests\\tests2.ipynb Cell 4'\u001b[0m in \u001b[0;36m<cell line: 1>\u001b[1;34m()\u001b[0m\n\u001b[1;32m----> <a href='vscode-notebook-cell:/d%3A/GITRepos/kinematic-match-sphere/python/4_tests/tests2.ipynb#ch0000004?line=0'>1</a>\u001b[0m np\u001b[39m.\u001b[39;49mceil(np\u001b[39m.\u001b[39;49mpi, dtype\u001b[39m=\u001b[39;49m\u001b[39mint\u001b[39;49m)\n",
      "\u001b[1;31mTypeError\u001b[0m: No loop matching the specified signature and casting was found for ufunc ceil"
     ]
    }
   ],
   "source": [
    "np.ceil(np.pi, dtype=int)"
   ]
  },
  {
   "cell_type": "code",
   "execution_count": 23,
   "metadata": {},
   "outputs": [
    {
     "name": "stdout",
     "output_type": "stream",
     "text": [
      "0.0\n"
     ]
    }
   ],
   "source": [
    "A = np.random.rand(3, 3)\n",
    "A[[0, 2], :]\n",
    "\n",
    "\n",
    "recordedv = np.zeros((5, 1))\n",
    "\n",
    "print(recordedv[2, 0])"
   ]
  }
 ],
 "metadata": {
  "interpreter": {
   "hash": "cf49e42d8ae526647a552259a46dfa8f53ce985d9771a2498166807dc176ee60"
  },
  "kernelspec": {
   "display_name": "Python 3.9.4 64-bit",
   "name": "python3"
  },
  "language_info": {
   "codemirror_mode": {
    "name": "ipython",
    "version": 3
   },
   "file_extension": ".py",
   "mimetype": "text/x-python",
   "name": "python",
   "nbconvert_exporter": "python",
   "pygments_lexer": "ipython3",
   "version": "3.10.4"
  },
  "orig_nbformat": 4
 },
 "nbformat": 4,
 "nbformat_minor": 2
}
